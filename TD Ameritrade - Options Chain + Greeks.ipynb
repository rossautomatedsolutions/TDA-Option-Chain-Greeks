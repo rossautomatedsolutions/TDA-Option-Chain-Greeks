{
 "cells": [
  {
   "cell_type": "markdown",
   "id": "9d17bf84",
   "metadata": {},
   "source": [
    "# TD Ameritrade: Options Chain & Greeks"
   ]
  },
  {
   "cell_type": "markdown",
   "id": "99cd5788",
   "metadata": {},
   "source": [
    "## Purpose Of This Project Is To Demonstrate Via Python + TD Ameritrade API\n",
    "* Pulling options chain for a single stock & viewing in a dataframe\n",
    "* Graphically view the greeks and additional attributes"
   ]
  },
  {
   "cell_type": "markdown",
   "id": "e2ed3efd",
   "metadata": {},
   "source": [
    "#### Reference Links\n",
    "* https://developer.tdameritrade.com/\n",
    "* https://tda-api.readthedocs.io/en/latest/index.html"
   ]
  },
  {
   "cell_type": "markdown",
   "id": "ece0780d",
   "metadata": {},
   "source": [
    "#### Webdriver to manager chrome driver for selenium\n",
    "* This is to handle error message for driver being outdated\n",
    "* https://www.youtube.com/watch?v=mAwL_0N1W9E"
   ]
  },
  {
   "cell_type": "code",
   "execution_count": 1,
   "id": "c9c66396",
   "metadata": {},
   "outputs": [],
   "source": [
    "# pip install webdriver-manager"
   ]
  },
  {
   "cell_type": "code",
   "execution_count": 2,
   "id": "51cc7bb1",
   "metadata": {},
   "outputs": [],
   "source": [
    "# pip install selenium"
   ]
  },
  {
   "cell_type": "code",
   "execution_count": 3,
   "id": "088c6476",
   "metadata": {},
   "outputs": [],
   "source": [
    "from webdriver_manager.chrome import ChromeDriverManager\n",
    "from selenium.webdriver.chrome.service import Service"
   ]
  },
  {
   "cell_type": "markdown",
   "id": "1c383d97",
   "metadata": {},
   "source": [
    "#### Key Parameters From TD App.\n",
    "* This assumes app is already created"
   ]
  },
  {
   "cell_type": "code",
   "execution_count": 4,
   "id": "3942c445",
   "metadata": {},
   "outputs": [],
   "source": [
    "#Could be a stand alone .py file that you import in the next step\n",
    "token_path = 'token'\n",
    "api_key = 'APIKEY@AMER.OAUTHAP' # make sure this ends in @AMER.OAUTHAP\n",
    "redirect_uri = 'https://localhost'"
   ]
  },
  {
   "cell_type": "markdown",
   "id": "21d98615",
   "metadata": {},
   "source": [
    "## Connect To TD Ameritrade & Explore Data\n",
    "\n",
    "#### insipired by adamgetbags"
   ]
  },
  {
   "cell_type": "code",
   "execution_count": 5,
   "id": "bf43a777",
   "metadata": {},
   "outputs": [],
   "source": [
    "# pip install tda-api"
   ]
  },
  {
   "cell_type": "code",
   "execution_count": 6,
   "id": "7e9a2231",
   "metadata": {},
   "outputs": [],
   "source": [
    "# Connection\n",
    "from tda import auth, client\n",
    "import json\n",
    "import pandas as pd\n",
    "from datetime import datetime, date\n",
    "\n",
    "# import TDASecrets could go here too\n",
    "\n",
    "try:\n",
    "    c = auth.client_from_token_file(token_path, api_key)\n",
    "except FileNotFoundError:\n",
    "    from selenium import webdriver\n",
    "#     with webdriver.Chrome() as driver:\n",
    "# This leverages webdriver_manager. The code above is if you were not using webdriver_manager\n",
    "    with webdriver.Chrome(service = Service(ChromeDriverManager().install())) as driver:\n",
    "        c = auth.client_from_login_flow(\n",
    "            driver, api_key, redirect_uri,\n",
    "            token_path)"
   ]
  },
  {
   "cell_type": "code",
   "execution_count": 7,
   "id": "09b7e32e",
   "metadata": {},
   "outputs": [],
   "source": [
    "#get all options\n",
    "# additional filtering can be done. Consult the documentation for details\n",
    "stockSymbol = 'AAPL'\n",
    "# stockSymbol = 'VIX'\n",
    "r = c.get_option_chain(symbol = stockSymbol,\n",
    "                        contract_type = c.Options.ContractType.ALL)"
   ]
  },
  {
   "cell_type": "markdown",
   "id": "47fd2566",
   "metadata": {},
   "source": [
    "#### Field Exploration"
   ]
  },
  {
   "cell_type": "code",
   "execution_count": 8,
   "id": "25b31abb",
   "metadata": {},
   "outputs": [
    {
     "name": "stdout",
     "output_type": "stream",
     "text": [
      "dict_keys(['symbol', 'status', 'underlying', 'strategy', 'interval', 'isDelayed', 'isIndex', 'interestRate', 'underlyingPrice', 'volatility', 'daysToExpiration', 'numberOfContracts', 'putExpDateMap', 'callExpDateMap'])\n"
     ]
    }
   ],
   "source": [
    "# print keys\n",
    "print(r.json().keys())"
   ]
  },
  {
   "cell_type": "code",
   "execution_count": 9,
   "id": "1b249729",
   "metadata": {},
   "outputs": [],
   "source": [
    "# 3 = dates. This is the options expiring at the 3rd index\n",
    "# 2 = strike. This is the strike at the 2nd index\n",
    "data = r.json()['callExpDateMap'][\n",
    "# specific expiration\n",
    "        list(r.json()['callExpDateMap'].keys())[3]][\n",
    "# specific strike\n",
    "        list(r.json()['callExpDateMap'][\n",
    "        list(r.json()['callExpDateMap'].keys())[0]].keys())[2]][0]"
   ]
  },
  {
   "cell_type": "code",
   "execution_count": 10,
   "id": "6ae1a2c8",
   "metadata": {},
   "outputs": [
    {
     "data": {
      "text/plain": [
       "dict_keys(['putCall', 'symbol', 'description', 'exchangeName', 'bid', 'ask', 'last', 'mark', 'bidSize', 'askSize', 'bidAskSize', 'lastSize', 'highPrice', 'lowPrice', 'openPrice', 'closePrice', 'totalVolume', 'tradeDate', 'tradeTimeInLong', 'quoteTimeInLong', 'netChange', 'volatility', 'delta', 'gamma', 'theta', 'vega', 'rho', 'openInterest', 'timeValue', 'theoreticalOptionValue', 'theoreticalVolatility', 'optionDeliverablesList', 'strikePrice', 'expirationDate', 'daysToExpiration', 'expirationType', 'lastTradingDay', 'multiplier', 'settlementType', 'deliverableNote', 'isIndexOption', 'percentChange', 'markChange', 'markPercentChange', 'intrinsicValue', 'nonStandard', 'inTheMoney', 'mini', 'pennyPilot'])"
      ]
     },
     "execution_count": 10,
     "metadata": {},
     "output_type": "execute_result"
    }
   ],
   "source": [
    "data.keys()"
   ]
  },
  {
   "cell_type": "markdown",
   "id": "0991c520",
   "metadata": {},
   "source": [
    "### Pull All Call Options And Put Into A Dataframe\n",
    "* This is going to identify how many expiration dates there are\n",
    "* This will then determine how many strikes there are while looking at each expiration date\n",
    "* For each expiration date, loop through all strikes\n",
    "* View the greeks & other attributes for the option chain"
   ]
  },
  {
   "cell_type": "code",
   "execution_count": 11,
   "id": "3a9b3cf3",
   "metadata": {},
   "outputs": [
    {
     "data": {
      "text/html": [
       "<div>\n",
       "<style scoped>\n",
       "    .dataframe tbody tr th:only-of-type {\n",
       "        vertical-align: middle;\n",
       "    }\n",
       "\n",
       "    .dataframe tbody tr th {\n",
       "        vertical-align: top;\n",
       "    }\n",
       "\n",
       "    .dataframe thead th {\n",
       "        text-align: right;\n",
       "    }\n",
       "</style>\n",
       "<table border=\"1\" class=\"dataframe\">\n",
       "  <thead>\n",
       "    <tr style=\"text-align: right;\">\n",
       "      <th></th>\n",
       "      <th>putCall</th>\n",
       "      <th>symbol</th>\n",
       "      <th>description</th>\n",
       "      <th>exchangeName</th>\n",
       "      <th>bid</th>\n",
       "      <th>ask</th>\n",
       "      <th>last</th>\n",
       "      <th>mark</th>\n",
       "      <th>bidSize</th>\n",
       "      <th>askSize</th>\n",
       "      <th>...</th>\n",
       "      <th>deliverableNote</th>\n",
       "      <th>isIndexOption</th>\n",
       "      <th>percentChange</th>\n",
       "      <th>markChange</th>\n",
       "      <th>markPercentChange</th>\n",
       "      <th>intrinsicValue</th>\n",
       "      <th>nonStandard</th>\n",
       "      <th>inTheMoney</th>\n",
       "      <th>mini</th>\n",
       "      <th>pennyPilot</th>\n",
       "    </tr>\n",
       "  </thead>\n",
       "  <tbody>\n",
       "  </tbody>\n",
       "</table>\n",
       "<p>0 rows × 49 columns</p>\n",
       "</div>"
      ],
      "text/plain": [
       "Empty DataFrame\n",
       "Columns: [putCall, symbol, description, exchangeName, bid, ask, last, mark, bidSize, askSize, bidAskSize, lastSize, highPrice, lowPrice, openPrice, closePrice, totalVolume, tradeDate, tradeTimeInLong, quoteTimeInLong, netChange, volatility, delta, gamma, theta, vega, rho, openInterest, timeValue, theoreticalOptionValue, theoreticalVolatility, optionDeliverablesList, strikePrice, expirationDate, daysToExpiration, expirationType, lastTradingDay, multiplier, settlementType, deliverableNote, isIndexOption, percentChange, markChange, markPercentChange, intrinsicValue, nonStandard, inTheMoney, mini, pennyPilot]\n",
       "Index: []\n",
       "\n",
       "[0 rows x 49 columns]"
      ]
     },
     "execution_count": 11,
     "metadata": {},
     "output_type": "execute_result"
    }
   ],
   "source": [
    "data_final = pd.DataFrame(columns=data.keys())\n",
    "data_final.head()"
   ]
  },
  {
   "cell_type": "code",
   "execution_count": 12,
   "id": "31071052",
   "metadata": {
    "scrolled": true
   },
   "outputs": [
    {
     "name": "stderr",
     "output_type": "stream",
     "text": [
      
     ]
    }
   ],
   "source": [
    "callExp_num = len(r.json()['callExpDateMap'])\n",
    "for e in range(0,callExp_num):\n",
    "    strikeExp_num = len(r.json()['callExpDateMap'][\n",
    "        list(r.json()['callExpDateMap'].keys())[e]])\n",
    "    \n",
    "    for s in range(0,strikeExp_num):\n",
    "        try:\n",
    "            data_setup = r.json()['callExpDateMap'][\n",
    "                    # specific expiration\n",
    "                            list(r.json()['callExpDateMap'].keys())[e]][\n",
    "                    # specific strike\n",
    "                            list(r.json()['callExpDateMap'][\n",
    "                            list(r.json()['callExpDateMap'].keys())[0]].keys())[s]][0]\n",
    "            df_normalize = pd.json_normalize(data_setup)\n",
    "            df_normalize[\"stockSymbol\"] = stockSymbol\n",
    "            data_final = data_final.append(df_normalize,ignore_index =True)\n",
    "        except:\n",
    "            pass"
   ]
  },
  {
   "cell_type": "code",
   "execution_count": 13,
   "id": "bc6d3cb3",
   "metadata": {
    "scrolled": true
   },
   "outputs": [],
   "source": [
    "data_final.head(5)\n",
    "data_final.to_csv(\"data_final_chain_to_review.csv\")"
   ]
  },
  {
   "cell_type": "code",
   "execution_count": 14,
   "id": "dc54915c",
   "metadata": {},
   "outputs": [],
   "source": [
    "# Since I am mostly interested in the greeks, I'll pull in just the key columns I want\n",
    "filtered_column_headers = ['putCall','symbol','description','bid','ask','mark','totalVolume','volatility',\n",
    "    'delta','gamma','theta','vega','rho','openInterest','strikePrice','daysToExpiration','inTheMoney','stockSymbol']"
   ]
  },
  {
   "cell_type": "code",
   "execution_count": 15,
   "id": "34af8d21",
   "metadata": {},
   "outputs": [
    {
     "data": {
      "text/html": [
       "<div>\n",
       "<style scoped>\n",
       "    .dataframe tbody tr th:only-of-type {\n",
       "        vertical-align: middle;\n",
       "    }\n",
       "\n",
       "    .dataframe tbody tr th {\n",
       "        vertical-align: top;\n",
       "    }\n",
       "\n",
       "    .dataframe thead th {\n",
       "        text-align: right;\n",
       "    }\n",
       "</style>\n",
       "<table border=\"1\" class=\"dataframe\">\n",
       "  <thead>\n",
       "    <tr style=\"text-align: right;\">\n",
       "      <th></th>\n",
       "      <th>putCall</th>\n",
       "      <th>symbol</th>\n",
       "      <th>description</th>\n",
       "      <th>bid</th>\n",
       "      <th>ask</th>\n",
       "      <th>mark</th>\n",
       "      <th>totalVolume</th>\n",
       "      <th>volatility</th>\n",
       "      <th>delta</th>\n",
       "      <th>gamma</th>\n",
       "      <th>theta</th>\n",
       "      <th>vega</th>\n",
       "      <th>rho</th>\n",
       "      <th>openInterest</th>\n",
       "      <th>strikePrice</th>\n",
       "      <th>daysToExpiration</th>\n",
       "      <th>inTheMoney</th>\n",
       "      <th>stockSymbol</th>\n",
       "    </tr>\n",
       "  </thead>\n",
       "  <tbody>\n",
       "    <tr>\n",
       "      <th>0</th>\n",
       "      <td>CALL</td>\n",
       "      <td>AAPL_042123C50</td>\n",
       "      <td>AAPL Apr 21 2023 50 Call</td>\n",
       "      <td>114.5</td>\n",
       "      <td>116.10</td>\n",
       "      <td>115.30</td>\n",
       "      <td>0</td>\n",
       "      <td>NaN</td>\n",
       "      <td>NaN</td>\n",
       "      <td>NaN</td>\n",
       "      <td>NaN</td>\n",
       "      <td>0.0</td>\n",
       "      <td>NaN</td>\n",
       "      <td>1173</td>\n",
       "      <td>50.0</td>\n",
       "      <td>4</td>\n",
       "      <td>True</td>\n",
       "      <td>AAPL</td>\n",
       "    </tr>\n",
       "    <tr>\n",
       "      <th>1</th>\n",
       "      <td>CALL</td>\n",
       "      <td>AAPL_042123C60</td>\n",
       "      <td>AAPL Apr 21 2023 60 Call</td>\n",
       "      <td>104.5</td>\n",
       "      <td>106.10</td>\n",
       "      <td>105.30</td>\n",
       "      <td>0</td>\n",
       "      <td>276.874</td>\n",
       "      <td>1.0</td>\n",
       "      <td>0.0</td>\n",
       "      <td>-0.022</td>\n",
       "      <td>0.0</td>\n",
       "      <td>0.008</td>\n",
       "      <td>187</td>\n",
       "      <td>60.0</td>\n",
       "      <td>4</td>\n",
       "      <td>True</td>\n",
       "      <td>AAPL</td>\n",
       "    </tr>\n",
       "    <tr>\n",
       "      <th>2</th>\n",
       "      <td>CALL</td>\n",
       "      <td>AAPL_042123C65</td>\n",
       "      <td>AAPL Apr 21 2023 65 Call</td>\n",
       "      <td>99.5</td>\n",
       "      <td>101.10</td>\n",
       "      <td>100.30</td>\n",
       "      <td>1</td>\n",
       "      <td>255.808</td>\n",
       "      <td>1.0</td>\n",
       "      <td>0.0</td>\n",
       "      <td>-0.023</td>\n",
       "      <td>0.0</td>\n",
       "      <td>0.008</td>\n",
       "      <td>114</td>\n",
       "      <td>65.0</td>\n",
       "      <td>4</td>\n",
       "      <td>True</td>\n",
       "      <td>AAPL</td>\n",
       "    </tr>\n",
       "    <tr>\n",
       "      <th>3</th>\n",
       "      <td>CALL</td>\n",
       "      <td>AAPL_042123C70</td>\n",
       "      <td>AAPL Apr 21 2023 70 Call</td>\n",
       "      <td>95.0</td>\n",
       "      <td>95.65</td>\n",
       "      <td>95.33</td>\n",
       "      <td>0</td>\n",
       "      <td>NaN</td>\n",
       "      <td>NaN</td>\n",
       "      <td>NaN</td>\n",
       "      <td>NaN</td>\n",
       "      <td>0.0</td>\n",
       "      <td>NaN</td>\n",
       "      <td>217</td>\n",
       "      <td>70.0</td>\n",
       "      <td>4</td>\n",
       "      <td>True</td>\n",
       "      <td>AAPL</td>\n",
       "    </tr>\n",
       "    <tr>\n",
       "      <th>4</th>\n",
       "      <td>CALL</td>\n",
       "      <td>AAPL_042123C75</td>\n",
       "      <td>AAPL Apr 21 2023 75 Call</td>\n",
       "      <td>90.0</td>\n",
       "      <td>91.05</td>\n",
       "      <td>90.53</td>\n",
       "      <td>0</td>\n",
       "      <td>NaN</td>\n",
       "      <td>NaN</td>\n",
       "      <td>NaN</td>\n",
       "      <td>NaN</td>\n",
       "      <td>0.0</td>\n",
       "      <td>NaN</td>\n",
       "      <td>118</td>\n",
       "      <td>75.0</td>\n",
       "      <td>4</td>\n",
       "      <td>True</td>\n",
       "      <td>AAPL</td>\n",
       "    </tr>\n",
       "  </tbody>\n",
       "</table>\n",
       "</div>"
      ],
      "text/plain": [
       "  putCall          symbol               description    bid     ask    mark  \\\n",
       "0    CALL  AAPL_042123C50  AAPL Apr 21 2023 50 Call  114.5  116.10  115.30   \n",
       "1    CALL  AAPL_042123C60  AAPL Apr 21 2023 60 Call  104.5  106.10  105.30   \n",
       "2    CALL  AAPL_042123C65  AAPL Apr 21 2023 65 Call   99.5  101.10  100.30   \n",
       "3    CALL  AAPL_042123C70  AAPL Apr 21 2023 70 Call   95.0   95.65   95.33   \n",
       "4    CALL  AAPL_042123C75  AAPL Apr 21 2023 75 Call   90.0   91.05   90.53   \n",
       "\n",
       "  totalVolume volatility delta gamma  theta  vega    rho openInterest  \\\n",
       "0           0        NaN   NaN   NaN    NaN   0.0    NaN         1173   \n",
       "1           0    276.874   1.0   0.0 -0.022   0.0  0.008          187   \n",
       "2           1    255.808   1.0   0.0 -0.023   0.0  0.008          114   \n",
       "3           0        NaN   NaN   NaN    NaN   0.0    NaN          217   \n",
       "4           0        NaN   NaN   NaN    NaN   0.0    NaN          118   \n",
       "\n",
       "   strikePrice daysToExpiration inTheMoney stockSymbol  \n",
       "0         50.0                4       True        AAPL  \n",
       "1         60.0                4       True        AAPL  \n",
       "2         65.0                4       True        AAPL  \n",
       "3         70.0                4       True        AAPL  \n",
       "4         75.0                4       True        AAPL  "
      ]
     },
     "execution_count": 15,
     "metadata": {},
     "output_type": "execute_result"
    }
   ],
   "source": [
    "df_filtered = data_final[filtered_column_headers]\n",
    "df_filtered.head()"
   ]
  },
  {
   "cell_type": "code",
   "execution_count": 17,
   "id": "5cecdccd",
   "metadata": {},
   "outputs": [
    {
     "name": "stdout",
     "output_type": "stream",
     "text": [
      "Option Chain Pull Complete - Please Review\n"
     ]
    }
   ],
   "source": [
    "# df_filtered.to_csv(\"OptionsChain_Review.csv\")\n",
    "print('Option Chain Pull Complete - Please Review')"
   ]
  },
  {
   "cell_type": "markdown",
   "id": "68644a40",
   "metadata": {},
   "source": [
    "## Graph Greeks In Option Chain"
   ]
  },
  {
   "cell_type": "code",
   "execution_count": 18,
   "id": "a0b8da5d",
   "metadata": {},
   "outputs": [
    {
     "data": {
      "text/plain": [
       "151"
      ]
     },
     "execution_count": 18,
     "metadata": {},
     "output_type": "execute_result"
    }
   ],
   "source": [
    "# Get list of unique DTE\n",
    "list_DTE = df_filtered['daysToExpiration'].unique()\n",
    "\n",
    "# picking DTE. Can be hard coded\n",
    "list_DTE[int(round(len(list_DTE)/2-1,0))]"
   ]
  },
  {
   "cell_type": "code",
   "execution_count": 19,
   "id": "a85c1696",
   "metadata": {},
   "outputs": [
    {
     "data": {
      "text/html": [
       "<div>\n",
       "<style scoped>\n",
       "    .dataframe tbody tr th:only-of-type {\n",
       "        vertical-align: middle;\n",
       "    }\n",
       "\n",
       "    .dataframe tbody tr th {\n",
       "        vertical-align: top;\n",
       "    }\n",
       "\n",
       "    .dataframe thead th {\n",
       "        text-align: right;\n",
       "    }\n",
       "</style>\n",
       "<table border=\"1\" class=\"dataframe\">\n",
       "  <thead>\n",
       "    <tr style=\"text-align: right;\">\n",
       "      <th></th>\n",
       "      <th>putCall</th>\n",
       "      <th>symbol</th>\n",
       "      <th>description</th>\n",
       "      <th>bid</th>\n",
       "      <th>ask</th>\n",
       "      <th>mark</th>\n",
       "      <th>totalVolume</th>\n",
       "      <th>volatility</th>\n",
       "      <th>delta</th>\n",
       "      <th>gamma</th>\n",
       "      <th>theta</th>\n",
       "      <th>vega</th>\n",
       "      <th>rho</th>\n",
       "      <th>openInterest</th>\n",
       "      <th>strikePrice</th>\n",
       "      <th>daysToExpiration</th>\n",
       "      <th>inTheMoney</th>\n",
       "      <th>stockSymbol</th>\n",
       "    </tr>\n",
       "  </thead>\n",
       "  <tbody>\n",
       "    <tr>\n",
       "      <th>399</th>\n",
       "      <td>CALL</td>\n",
       "      <td>AAPL_091523C65</td>\n",
       "      <td>AAPL Sep 15 2023 65 Call</td>\n",
       "      <td>100.60</td>\n",
       "      <td>101.60</td>\n",
       "      <td>101.10</td>\n",
       "      <td>0</td>\n",
       "      <td>57.331</td>\n",
       "      <td>0.992</td>\n",
       "      <td>0.0</td>\n",
       "      <td>-0.005</td>\n",
       "      <td>0.010</td>\n",
       "      <td>0.259</td>\n",
       "      <td>2</td>\n",
       "      <td>65.0</td>\n",
       "      <td>151</td>\n",
       "      <td>True</td>\n",
       "      <td>AAPL</td>\n",
       "    </tr>\n",
       "    <tr>\n",
       "      <th>400</th>\n",
       "      <td>CALL</td>\n",
       "      <td>AAPL_091523C70</td>\n",
       "      <td>AAPL Sep 15 2023 70 Call</td>\n",
       "      <td>95.75</td>\n",
       "      <td>96.80</td>\n",
       "      <td>96.28</td>\n",
       "      <td>0</td>\n",
       "      <td>55.254</td>\n",
       "      <td>0.991</td>\n",
       "      <td>0.0</td>\n",
       "      <td>-0.007</td>\n",
       "      <td>0.013</td>\n",
       "      <td>0.279</td>\n",
       "      <td>6146</td>\n",
       "      <td>70.0</td>\n",
       "      <td>151</td>\n",
       "      <td>True</td>\n",
       "      <td>AAPL</td>\n",
       "    </tr>\n",
       "    <tr>\n",
       "      <th>401</th>\n",
       "      <td>CALL</td>\n",
       "      <td>AAPL_091523C75</td>\n",
       "      <td>AAPL Sep 15 2023 75 Call</td>\n",
       "      <td>90.90</td>\n",
       "      <td>91.70</td>\n",
       "      <td>91.30</td>\n",
       "      <td>0</td>\n",
       "      <td>52.798</td>\n",
       "      <td>0.989</td>\n",
       "      <td>0.0</td>\n",
       "      <td>-0.008</td>\n",
       "      <td>0.017</td>\n",
       "      <td>0.3</td>\n",
       "      <td>1639</td>\n",
       "      <td>75.0</td>\n",
       "      <td>151</td>\n",
       "      <td>True</td>\n",
       "      <td>AAPL</td>\n",
       "    </tr>\n",
       "    <tr>\n",
       "      <th>402</th>\n",
       "      <td>CALL</td>\n",
       "      <td>AAPL_091523C80</td>\n",
       "      <td>AAPL Sep 15 2023 80 Call</td>\n",
       "      <td>86.10</td>\n",
       "      <td>86.80</td>\n",
       "      <td>86.45</td>\n",
       "      <td>0</td>\n",
       "      <td>50.636</td>\n",
       "      <td>0.988</td>\n",
       "      <td>0.0</td>\n",
       "      <td>-0.009</td>\n",
       "      <td>0.022</td>\n",
       "      <td>0.319</td>\n",
       "      <td>802</td>\n",
       "      <td>80.0</td>\n",
       "      <td>151</td>\n",
       "      <td>True</td>\n",
       "      <td>AAPL</td>\n",
       "    </tr>\n",
       "    <tr>\n",
       "      <th>403</th>\n",
       "      <td>CALL</td>\n",
       "      <td>AAPL_091523C85</td>\n",
       "      <td>AAPL Sep 15 2023 85 Call</td>\n",
       "      <td>81.20</td>\n",
       "      <td>82.25</td>\n",
       "      <td>81.72</td>\n",
       "      <td>2</td>\n",
       "      <td>48.407</td>\n",
       "      <td>0.985</td>\n",
       "      <td>0.0</td>\n",
       "      <td>-0.011</td>\n",
       "      <td>0.027</td>\n",
       "      <td>0.338</td>\n",
       "      <td>708</td>\n",
       "      <td>85.0</td>\n",
       "      <td>151</td>\n",
       "      <td>True</td>\n",
       "      <td>AAPL</td>\n",
       "    </tr>\n",
       "  </tbody>\n",
       "</table>\n",
       "</div>"
      ],
      "text/plain": [
       "    putCall          symbol               description     bid     ask    mark  \\\n",
       "399    CALL  AAPL_091523C65  AAPL Sep 15 2023 65 Call  100.60  101.60  101.10   \n",
       "400    CALL  AAPL_091523C70  AAPL Sep 15 2023 70 Call   95.75   96.80   96.28   \n",
       "401    CALL  AAPL_091523C75  AAPL Sep 15 2023 75 Call   90.90   91.70   91.30   \n",
       "402    CALL  AAPL_091523C80  AAPL Sep 15 2023 80 Call   86.10   86.80   86.45   \n",
       "403    CALL  AAPL_091523C85  AAPL Sep 15 2023 85 Call   81.20   82.25   81.72   \n",
       "\n",
       "    totalVolume volatility  delta gamma  theta   vega    rho openInterest  \\\n",
       "399           0     57.331  0.992   0.0 -0.005  0.010  0.259            2   \n",
       "400           0     55.254  0.991   0.0 -0.007  0.013  0.279         6146   \n",
       "401           0     52.798  0.989   0.0 -0.008  0.017    0.3         1639   \n",
       "402           0     50.636  0.988   0.0 -0.009  0.022  0.319          802   \n",
       "403           2     48.407  0.985   0.0 -0.011  0.027  0.338          708   \n",
       "\n",
       "     strikePrice daysToExpiration inTheMoney stockSymbol  \n",
       "399         65.0              151       True        AAPL  \n",
       "400         70.0              151       True        AAPL  \n",
       "401         75.0              151       True        AAPL  \n",
       "402         80.0              151       True        AAPL  \n",
       "403         85.0              151       True        AAPL  "
      ]
     },
     "execution_count": 19,
     "metadata": {},
     "output_type": "execute_result"
    }
   ],
   "source": [
    "dte_filter = list_DTE[int(round(len(list_DTE)/2-1,0))]\n",
    "df = df_filtered[df_filtered['daysToExpiration']==dte_filter]\n",
    "# df = df_filtered\n",
    "df.head(5)"
   ]
  },
  {
   "cell_type": "code",
   "execution_count": 20,
   "id": "b12d1386",
   "metadata": {},
   "outputs": [
    {
     "data": {
      "text/plain": [
       "Index(['putCall', 'symbol', 'description', 'bid', 'ask', 'mark', 'totalVolume',\n",
       "       'volatility', 'delta', 'gamma', 'theta', 'vega', 'rho', 'openInterest',\n",
       "       'strikePrice', 'daysToExpiration', 'inTheMoney', 'stockSymbol'],\n",
       "      dtype='object')"
      ]
     },
     "execution_count": 20,
     "metadata": {},
     "output_type": "execute_result"
    }
   ],
   "source": [
    "df.columns"
   ]
  },
  {
   "cell_type": "code",
   "execution_count": 21,
   "id": "2d4a0481",
   "metadata": {},
   "outputs": [
    {
     "data": {
      "text/plain": [
       "<Axes: xlabel='strikePrice', ylabel='delta'>"
      ]
     },
     "execution_count": 21,
     "metadata": {},
     "output_type": "execute_result"
    },
    {
     "data": {
      "image/png": "[encoded data removed]",
      "text/plain": [
       "<Figure size 640x480 with 1 Axes>"
      ]
     },
     "metadata": {},
     "output_type": "display_data"
    }
   ],
   "source": [
    "df.plot(x='strikePrice', y='delta', kind='scatter')"
   ]
  },
  {
   "cell_type": "code",
   "execution_count": 22,
   "id": "0e9c6176",
   "metadata": {},
   "outputs": [
    {
     "data": {
      "text/plain": [
       "<Axes: xlabel='strikePrice', ylabel='theta'>"
      ]
     },
     "execution_count": 22,
     "metadata": {},
     "output_type": "execute_result"
    },
    {
     "data": {
      "image/png": "[encoded data removed]",
      "text/plain": [
       "<Figure size 640x480 with 1 Axes>"
      ]
     },
     "metadata": {},
     "output_type": "display_data"
    }
   ],
   "source": [
    "df.plot(x='strikePrice', y='theta', kind='scatter')"
   ]
  },
  {
   "cell_type": "code",
   "execution_count": 23,
   "id": "e66f9901",
   "metadata": {},
   "outputs": [
    {
     "data": {
      "text/plain": [
       "<Axes: xlabel='strikePrice', ylabel='theta'>"
      ]
     },
     "execution_count": 23,
     "metadata": {},
     "output_type": "execute_result"
    },
    {
     "data": {
      "image/png": "[encoded data removed]",
      "text/plain": [
       "<Figure size 640x480 with 1 Axes>"
      ]
     },
     "metadata": {},
     "output_type": "display_data"
    }
   ],
   "source": [
    "df.plot(x='strikePrice', y='theta', kind='scatter')"
   ]
  },
  {
   "cell_type": "code",
   "execution_count": 24,
   "id": "f0889c7b",
   "metadata": {},
   "outputs": [
    {
     "data": {
      "text/plain": [
       "<Axes: xlabel='strikePrice', ylabel='vega'>"
      ]
     },
     "execution_count": 24,
     "metadata": {},
     "output_type": "execute_result"
    },
    {
     "data": {
      "image/png": "[encoded data removed]",
      "text/plain": [
       "<Figure size 640x480 with 1 Axes>"
      ]
     },
     "metadata": {},
     "output_type": "display_data"
    }
   ],
   "source": [
    "df.plot(x='strikePrice', y='vega', kind='scatter')"
   ]
  },
  {
   "cell_type": "code",
   "execution_count": 25,
   "id": "a905f5a2",
   "metadata": {},
   "outputs": [
    {
     "data": {
      "text/plain": [
       "<Axes: xlabel='strikePrice', ylabel='rho'>"
      ]
     },
     "execution_count": 25,
     "metadata": {},
     "output_type": "execute_result"
    },
    {
     "data": {
      "image/png": "[encoded data removed]",
      "text/plain": [
       "<Figure size 640x480 with 1 Axes>"
      ]
     },
     "metadata": {},
     "output_type": "display_data"
    }
   ],
   "source": [
    "df.plot(x='strikePrice', y='rho', kind='scatter')"
   ]
  },
  {
   "cell_type": "code",
   "execution_count": 26,
   "id": "8b60c022",
   "metadata": {},
   "outputs": [
    {
     "data": {
      "text/plain": [
       "<Axes: xlabel='strikePrice', ylabel='volatility'>"
      ]
     },
     "execution_count": 26,
     "metadata": {},
     "output_type": "execute_result"
    },
    {
     "data": {
      "image/png": "[encoded data removed]",
      "text/plain": [
       "<Figure size 640x480 with 1 Axes>"
      ]
     },
     "metadata": {},
     "output_type": "display_data"
    }
   ],
   "source": [
    "df.plot(x='strikePrice', y='volatility', kind='scatter')"
   ]
  },
  {
   "cell_type": "code",
   "execution_count": 27,
   "id": "45b60ad0",
   "metadata": {},
   "outputs": [
    {
     "data": {
      "text/plain": [
       "<Axes: xlabel='strikePrice', ylabel='openInterest'>"
      ]
     },
     "execution_count": 27,
     "metadata": {},
     "output_type": "execute_result"
    },
    {
     "data": {
      "image/png": "[encoded data removed]",
      "text/plain": [
       "<Figure size 640x480 with 1 Axes>"
      ]
     },
     "metadata": {},
     "output_type": "display_data"
    }
   ],
   "source": [
    "df.plot(x='strikePrice', y='openInterest', kind='scatter')"
   ]
  }
 ],
 "metadata": {
  "kernelspec": {
   "display_name": "Python 3 (ipykernel)",
   "language": "python",
   "name": "python3"
  },
  "language_info": {
   "codemirror_mode": {
    "name": "ipython",
    "version": 3
   },
   "file_extension": ".py",
   "mimetype": "text/x-python",
   "name": "python",
   "nbconvert_exporter": "python",
   "pygments_lexer": "ipython3",
   "version": "3.10.9"
  }
 },
 "nbformat": 4,
 "nbformat_minor": 5
}
